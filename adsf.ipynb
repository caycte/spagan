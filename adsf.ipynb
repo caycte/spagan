{
 "cells": [
  {
   "cell_type": "code",
   "execution_count": 1,
   "metadata": {},
   "outputs": [],
   "source": [
    "%reload_ext autoreload\n",
    "%autoreload 2"
   ]
  },
  {
   "cell_type": "code",
   "execution_count": 2,
   "metadata": {},
   "outputs": [],
   "source": [
    "from __future__ import division\n",
    "from __future__ import print_function\n",
    "import scipy\n",
    "import os\n",
    "import glob\n",
    "import time\n",
    "import random\n",
    "import argparse\n",
    "import numpy as np\n",
    "import torch\n",
    "import torch.nn.functional as F\n",
    "import torch.optim as optim\n",
    "from torch.autograd import Variable\n",
    "import scipy.sparse as sp\n",
    "from utils import *\n",
    "from write_mandatory_files_for_adsf import *\n",
    "from rwr_process import *"
   ]
  },
  {
   "cell_type": "code",
   "execution_count": 14,
   "metadata": {},
   "outputs": [
    {
     "name": "stderr",
     "output_type": "stream",
     "text": [
      "2708it [00:26, 101.14it/s]\n"
     ]
    },
    {
     "name": "stdout",
     "output_type": "stream",
     "text": [
      "File saved at data/adsf/dijskra_cora.pkl\n"
     ]
    },
    {
     "name": "stderr",
     "output_type": "stream",
     "text": [
      "3327it [00:20, 159.60it/s]\n"
     ]
    },
    {
     "name": "stdout",
     "output_type": "stream",
     "text": [
      "File saved at data/adsf/dijskra_citeseer.pkl\n"
     ]
    },
    {
     "name": "stderr",
     "output_type": "stream",
     "text": [
      "19717it [31:34, 10.41it/s]\n"
     ]
    },
    {
     "name": "stdout",
     "output_type": "stream",
     "text": [
      "File saved at data/adsf/dijskra_pubmed.pkl\n"
     ]
    }
   ],
   "source": [
    "# write_shortest_path_adj_matrix('cora')\n",
    "# write_shortest_path_adj_matrix('citeseer')\n",
    "# write_shortest_path_adj_matrix('pubmed')\n",
    "\n"
   ]
  },
  {
   "cell_type": "code",
   "execution_count": 7,
   "metadata": {},
   "outputs": [
    {
     "name": "stdout",
     "output_type": "stream",
     "text": [
      "node number: 3327\n",
      "training sample: 120\n",
      "validation sample: 500\n",
      "testing sample: 1000\n"
     ]
    },
    {
     "name": "stderr",
     "output_type": "stream",
     "text": [
      "100%|██████████| 1/1 [00:00<?, ?it/s]\n"
     ]
    }
   ],
   "source": [
    "dataset = \"citeseer\"\n",
    "adj, features,  idx_train, idx_val, idx_test, train_mask, val_mask, test_mask,labels ,adj_ad= load_data_orggcn(dataset)\n",
    "dataset_len = features.shape[0]"
   ]
  },
  {
   "cell_type": "code",
   "execution_count": 11,
   "metadata": {},
   "outputs": [],
   "source": [
    "model =  RWR_process(nfeat=features.shape[1],\n",
    "                nhid=8,\n",
    "                nclass=int(labels.max()) + 1,\n",
    "                dropout=0.6,\n",
    "                nheads=8,\n",
    "                alpha=0.2,\n",
    "                adj_ad=0, dataset=dataset, dataset_len=dataset_len)\n"
   ]
  },
  {
   "cell_type": "code",
   "execution_count": 12,
   "metadata": {},
   "outputs": [],
   "source": [
    "x_dense = features.todense() if sp.issparse(features) else features\n",
    "\n",
    "# Then, convert this dense matrix to a PyTorch Tensor\n",
    "x_tensor = torch.FloatTensor(x_dense)"
   ]
  },
  {
   "cell_type": "code",
   "execution_count": 13,
   "metadata": {},
   "outputs": [
    {
     "name": "stdout",
     "output_type": "stream",
     "text": [
      "File saved at data/adsf/ri_index_c_0.5_citeseer_highorder_1_x_abs.pkl\n",
      "File saved at data/adsf/ri_all_c_0.5_citeseer_highorder_1_x_abs.pkl\n",
      "File saved at data/adsf/ri_index_c_0.5_citeseer_highorder_1_x_abs.pkl\n",
      "File saved at data/adsf/ri_all_c_0.5_citeseer_highorder_1_x_abs.pkl\n",
      "File saved at data/adsf/ri_index_c_0.5_citeseer_highorder_1_x_abs.pkl\n",
      "File saved at data/adsf/ri_all_c_0.5_citeseer_highorder_1_x_abs.pkl\n",
      "File saved at data/adsf/ri_index_c_0.5_citeseer_highorder_1_x_abs.pkl\n",
      "File saved at data/adsf/ri_all_c_0.5_citeseer_highorder_1_x_abs.pkl\n",
      "File saved at data/adsf/ri_index_c_0.5_citeseer_highorder_1_x_abs.pkl\n",
      "File saved at data/adsf/ri_all_c_0.5_citeseer_highorder_1_x_abs.pkl\n",
      "File saved at data/adsf/ri_index_c_0.5_citeseer_highorder_1_x_abs.pkl\n",
      "File saved at data/adsf/ri_all_c_0.5_citeseer_highorder_1_x_abs.pkl\n",
      "File saved at data/adsf/ri_index_c_0.5_citeseer_highorder_1_x_abs.pkl\n",
      "File saved at data/adsf/ri_all_c_0.5_citeseer_highorder_1_x_abs.pkl\n",
      "File saved at data/adsf/ri_index_c_0.5_citeseer_highorder_1_x_abs.pkl\n",
      "File saved at data/adsf/ri_all_c_0.5_citeseer_highorder_1_x_abs.pkl\n",
      "File saved at data/adsf/ri_index_c_0.5_citeseer_highorder_1_x_abs.pkl\n",
      "File saved at data/adsf/ri_all_c_0.5_citeseer_highorder_1_x_abs.pkl\n"
     ]
    },
    {
     "data": {
      "text/plain": [
       "tensor([[-1.7918, -1.7918, -1.7918, -1.7918, -1.7918, -1.7918],\n",
       "        [-1.7893, -1.7830, -1.8176, -1.7866, -1.8022, -1.7726],\n",
       "        [-1.7175, -1.8000, -1.7138, -1.8425, -1.8654, -1.8217],\n",
       "        ...,\n",
       "        [-1.8257, -1.7964, -1.7888, -1.7673, -1.7792, -1.7941],\n",
       "        [-1.7742, -1.7578, -1.8101, -1.8148, -1.7922, -1.8028],\n",
       "        [-1.7711, -1.8459, -1.7861, -1.7656, -1.7884, -1.7954]],\n",
       "       device='cuda:0', grad_fn=<LogSoftmaxBackward0>)"
      ]
     },
     "execution_count": 13,
     "metadata": {},
     "output_type": "execute_result"
    }
   ],
   "source": [
    "model.to('cuda')\n",
    "model.forward(x_tensor.to('cuda'), adj.to('cuda'),0)"
   ]
  },
  {
   "cell_type": "code",
   "execution_count": 5,
   "metadata": {},
   "outputs": [],
   "source": [
    "def preprocess_features(features):\n",
    "    \"\"\"Row-normalize feature matrix and convert to tuple representation\"\"\"\n",
    "    rowsum = np.array(features.sum(1))\n",
    "    r_inv = np.power(rowsum, -1).flatten()\n",
    "    r_inv[np.isinf(r_inv)] = 0.\n",
    "    r_mat_inv = sp.diags(r_inv)\n",
    "    features = r_mat_inv.dot(features)\n",
    "    return features.todense(), sparse_to_tuple(features)\n",
    "\n",
    "def sparse_to_tuple(sparse_mx):\n",
    "    \"\"\"Convert sparse matrix to tuple representation.\"\"\"\n",
    "    def to_tuple(mx):\n",
    "        if not sp.isspmatrix_coo(mx):\n",
    "            mx = mx.tocoo()\n",
    "        coords = np.vstack((mx.row, mx.col)).transpose()\n",
    "        values = mx.data\n",
    "        shape = mx.shape\n",
    "        return coords, values, shape\n",
    "features, spars = preprocess_features(features)\n"
   ]
  }
 ],
 "metadata": {
  "kernelspec": {
   "display_name": "base",
   "language": "python",
   "name": "python3"
  },
  "language_info": {
   "codemirror_mode": {
    "name": "ipython",
    "version": 3
   },
   "file_extension": ".py",
   "mimetype": "text/x-python",
   "name": "python",
   "nbconvert_exporter": "python",
   "pygments_lexer": "ipython3",
   "version": "3.11.5"
  }
 },
 "nbformat": 4,
 "nbformat_minor": 2
}
